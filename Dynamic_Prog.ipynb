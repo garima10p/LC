{
  "nbformat": 4,
  "nbformat_minor": 0,
  "metadata": {
    "colab": {
      "name": "Dynamic Prog.ipynb",
      "provenance": []
    },
    "kernelspec": {
      "name": "python3",
      "display_name": "Python 3"
    },
    "language_info": {
      "name": "python"
    }
  },
  "cells": [
    {
      "cell_type": "code",
      "metadata": {
        "id": "O5VyPz_7XiYB"
      },
      "source": [
        "h = [1,100,1,1,1,100,1,1,100,1]\n",
        "h=[10,15,20]\n",
        "\n",
        "n=len(h)\n",
        "\n",
        "dp=[0]*n\n",
        "dp[0]=h[0]\n",
        "#a[1]=h[0]\n",
        "dp[1]=min(h[0],h[1])\n",
        "for i in range(2,n):\n",
        "  #if i<2:\n",
        "   # dp[i]=h[i]\n",
        "  dp[i]=min(dp[i-2],dp[i-1])+h[i]\n",
        "print(min(dp[n-1],dp[n-2]))\n",
        "\n",
        "h = [1,100,1,1,1,100,1,1,100,1]\n",
        "#h=[4,1]\n",
        "h=[10,15,20]\n",
        "n=len(h)\n"
      ],
      "execution_count": null,
      "outputs": []
    },
    {
      "cell_type": "code",
      "metadata": {
        "id": "QbbsRIRIXl2b"
      },
      "source": [
        ""
      ],
      "execution_count": null,
      "outputs": []
    }
  ]
}