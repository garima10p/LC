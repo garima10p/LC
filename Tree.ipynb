{
  "nbformat": 4,
  "nbformat_minor": 0,
  "metadata": {
    "colab": {
      "name": "Tree.ipynb",
      "provenance": []
    },
    "kernelspec": {
      "name": "python3",
      "display_name": "Python 3"
    },
    "language_info": {
      "name": "python"
    }
  },
  "cells": [
    {
      "cell_type": "code",
      "metadata": {
        "id": "O5VyPz_7XiYB"
      },
      "source": [
        "def kAltReverse(head, k) :\n",
        "  \n",
        "    return _kAltReverse(head, k, True) \n",
        "  \n",
        "def _kAltReverse(Node, k, b) :\n",
        "  \n",
        "    if(Node == None) :\n",
        "        return None\n",
        "      \n",
        "    count = 0\n",
        "    prev = None\n",
        "    current = Node \n",
        "    next = None\n",
        "  \n",
        "    while(current != None and count < k) :\n",
        "      \n",
        "        next = current.next\n",
        "      \n",
        "        if(b == True) :\n",
        "            current.next = prev \n",
        "                  \n",
        "        prev = current \n",
        "        current = next\n",
        "        count = count + 1\n",
        "      \n",
        "          \n",
        "    \"\"\" 3) If b is True, then node is the kth node. \n",
        "        So attach rest of the list after node. \n",
        "        4) After attaching, return the new head \"\"\"\n",
        "    if(b == True) :\n",
        "      \n",
        "        Node.next = _kAltReverse(current, k, not b) \n",
        "        return prev         \n",
        "      \n",
        "    else :\n",
        "        \"\"\" If b is not True, then attach \n",
        "        rest of the list after prev. \n",
        "        So attach rest of the list after prev \"\"\"\n",
        "        prev.next = _kAltReverse(current, k, not b) \n",
        "        return Node     \n",
        "   "
      ],
      "execution_count": null,
      "outputs": []
    },
    {
      "cell_type": "code",
      "metadata": {
        "id": "QbbsRIRIXl2b"
      },
      "source": [
        ""
      ],
      "execution_count": null,
      "outputs": []
    }
  ]
}