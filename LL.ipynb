{
  "nbformat": 4,
  "nbformat_minor": 0,
  "metadata": {
    "colab": {
      "name": "Untitled33.ipynb",
      "provenance": []
    },
    "kernelspec": {
      "name": "python3",
      "display_name": "Python 3"
    },
    "language_info": {
      "name": "python"
    }
  },
  "cells": [
    {
      "cell_type": "code",
      "metadata": {
        "id": "4JnDt-xUTHBV",
        "outputId": "ed1b1937-1982-4714-f662-3dc6510d6857",
        "colab": {
          "base_uri": "https://localhost:8080/",
          "height": 351
        }
      },
      "source": [
        "class Node:\n",
        "  def __init__(self, data):\n",
        "    self.data=data\n",
        "    self.next=None\n",
        "\n",
        "class LinkedList:\n",
        "  def __init__(self):\n",
        "    self.head=None\n",
        "  def push(self, new_data):\n",
        "    new_node=Node(new_data)\n",
        "    new_node.next=self.head\n",
        "    self.head=new_node\n",
        "  def printll(self):\n",
        "    temp=self.head\n",
        "    while temp:\n",
        "      print(temp.data,end=' ')\n",
        "      temp=temp.next\n",
        "  def reversell(self, head, k):\n",
        "    if head==None:\n",
        "      return None\n",
        "    prev=None\n",
        "    next=None\n",
        "    curr=head\n",
        "    count=0\n",
        "    while curr is not None and count<k:\n",
        "      next=curr.next\n",
        "      curr.next=prev\n",
        "      prev=curr\n",
        "      curr=next\n",
        "      count+=1\n",
        "\n",
        "    if next is not None:\n",
        "      head.next=self.reversell(next,k)\n",
        "\n",
        "    return prev\n",
        "\n",
        "    def alt_reverse(self, head, k):\n",
        "      \n",
        "      #return _alt_reverse(head, k, True)\n",
        "\n",
        "      def _alt_reverse(head, k, b):\n",
        "        if head==None:\n",
        "          return None\n",
        "        prev=None\n",
        "        curr=head\n",
        "        next=None\n",
        "        count=0\n",
        "\n",
        "        while curr is not None and count<k:\n",
        "\n",
        "          next=curr.next\n",
        "\n",
        "          if b==True:\n",
        "            curr.next=prev\n",
        "          \n",
        "          prev=curr\n",
        "          curr=next\n",
        "          count+=1\n",
        "\n",
        "          if b==True:\n",
        "            head.next=_alt_reverse(curr,k, not b)\n",
        "            return prev\n",
        "          else:\n",
        "            prev.next=_alt_reverse(curr,k,not b)\n",
        "            return head\n",
        "\n",
        "        return _alt_reverse(head, k, True)\n",
        "  llist=LinkedList()\n",
        "  llist.push(1)\n",
        "  llist.push(2)\n",
        "  llist.push(3)\n",
        "  llist.push(4)\n",
        "  llist.push(5)\n",
        "  llist.push(6)\n",
        "  llist.push(7)\n",
        "  llist.push(8)\n",
        "\n",
        "  llist.printll()\n",
        "  k=3\n",
        "  llist.head=llist.alt_reverse(llist.head,k)\n",
        "  print()\n",
        "  llist.printll()"
      ],
      "execution_count": 1,
      "outputs": [
        {
          "output_type": "error",
          "ename": "NameError",
          "evalue": "ignored",
          "traceback": [
            "\u001b[0;31m---------------------------------------------------------------------------\u001b[0m",
            "\u001b[0;31mNameError\u001b[0m                                 Traceback (most recent call last)",
            "\u001b[0;32m<ipython-input-1-bcafd3d7a135>\u001b[0m in \u001b[0;36m<module>\u001b[0;34m()\u001b[0m\n\u001b[1;32m      4\u001b[0m     \u001b[0mself\u001b[0m\u001b[0;34m.\u001b[0m\u001b[0mnext\u001b[0m\u001b[0;34m=\u001b[0m\u001b[0;32mNone\u001b[0m\u001b[0;34m\u001b[0m\u001b[0;34m\u001b[0m\u001b[0m\n\u001b[1;32m      5\u001b[0m \u001b[0;34m\u001b[0m\u001b[0m\n\u001b[0;32m----> 6\u001b[0;31m \u001b[0;32mclass\u001b[0m \u001b[0mLinkedList\u001b[0m\u001b[0;34m:\u001b[0m\u001b[0;34m\u001b[0m\u001b[0;34m\u001b[0m\u001b[0m\n\u001b[0m\u001b[1;32m      7\u001b[0m   \u001b[0;32mdef\u001b[0m \u001b[0m__init__\u001b[0m\u001b[0;34m(\u001b[0m\u001b[0mself\u001b[0m\u001b[0;34m)\u001b[0m\u001b[0;34m:\u001b[0m\u001b[0;34m\u001b[0m\u001b[0;34m\u001b[0m\u001b[0m\n\u001b[1;32m      8\u001b[0m     \u001b[0mself\u001b[0m\u001b[0;34m.\u001b[0m\u001b[0mhead\u001b[0m\u001b[0;34m=\u001b[0m\u001b[0;32mNone\u001b[0m\u001b[0;34m\u001b[0m\u001b[0;34m\u001b[0m\u001b[0m\n",
            "\u001b[0;32m<ipython-input-1-bcafd3d7a135>\u001b[0m in \u001b[0;36mLinkedList\u001b[0;34m()\u001b[0m\n\u001b[1;32m     66\u001b[0m \u001b[0;34m\u001b[0m\u001b[0m\n\u001b[1;32m     67\u001b[0m         \u001b[0;32mreturn\u001b[0m \u001b[0m_alt_reverse\u001b[0m\u001b[0;34m(\u001b[0m\u001b[0mhead\u001b[0m\u001b[0;34m,\u001b[0m \u001b[0mk\u001b[0m\u001b[0;34m,\u001b[0m \u001b[0;32mTrue\u001b[0m\u001b[0;34m)\u001b[0m\u001b[0;34m\u001b[0m\u001b[0;34m\u001b[0m\u001b[0m\n\u001b[0;32m---> 68\u001b[0;31m   \u001b[0mllist\u001b[0m\u001b[0;34m=\u001b[0m\u001b[0mLinkedList\u001b[0m\u001b[0;34m(\u001b[0m\u001b[0;34m)\u001b[0m\u001b[0;34m\u001b[0m\u001b[0;34m\u001b[0m\u001b[0m\n\u001b[0m\u001b[1;32m     69\u001b[0m   \u001b[0mllist\u001b[0m\u001b[0;34m.\u001b[0m\u001b[0mpush\u001b[0m\u001b[0;34m(\u001b[0m\u001b[0;36m1\u001b[0m\u001b[0;34m)\u001b[0m\u001b[0;34m\u001b[0m\u001b[0;34m\u001b[0m\u001b[0m\n\u001b[1;32m     70\u001b[0m   \u001b[0mllist\u001b[0m\u001b[0;34m.\u001b[0m\u001b[0mpush\u001b[0m\u001b[0;34m(\u001b[0m\u001b[0;36m2\u001b[0m\u001b[0;34m)\u001b[0m\u001b[0;34m\u001b[0m\u001b[0;34m\u001b[0m\u001b[0m\n",
            "\u001b[0;31mNameError\u001b[0m: name 'LinkedList' is not defined"
          ]
        }
      ]
    },
    {
      "cell_type": "code",
      "metadata": {
        "id": "I4pitpaMTJE-"
      },
      "source": [
        ""
      ],
      "execution_count": null,
      "outputs": []
    }
  ]
}